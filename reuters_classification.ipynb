{
 "cells": [
  {
   "cell_type": "markdown",
   "metadata": {},
   "source": [
    "# 多クラス分類"
   ]
  },
  {
   "cell_type": "code",
   "execution_count": 26,
   "metadata": {},
   "outputs": [],
   "source": [
    "from keras.datasets import reuters\n",
    "import numpy as np\n",
    "from keras import models\n",
    "from keras import layers\n",
    "from keras.utils.np_utils import to_categorical"
   ]
  },
  {
   "cell_type": "code",
   "execution_count": 27,
   "metadata": {},
   "outputs": [],
   "source": [
    "# save np.load\n",
    "np_load_old = np.load\n",
    "\n",
    "# modify the default parameters of np.load\n",
    "np.load = lambda *a,**k: np_load_old(*a, allow_pickle=True, **k)\n",
    "\n",
    "# call load_data with allow_pickle implicitly set to true\n",
    "(train_data, train_labels), (test_data, test_labels) = reuters.load_data(num_words=10000)\n",
    "\n",
    "# restore np.load for future normal usage\n",
    "np.load = np_load_old"
   ]
  },
  {
   "cell_type": "code",
   "execution_count": 28,
   "metadata": {},
   "outputs": [],
   "source": [
    "#one-hot-encoding\n",
    "def vectorize_sequences(sequences, dimension=10000):\n",
    "    result = np.zeros((len(sequences), dimension))\n",
    "    for i, sequences in enumerate(sequences):\n",
    "        result[i, sequences] = 1.\n",
    "    return result"
   ]
  },
  {
   "cell_type": "code",
   "execution_count": 29,
   "metadata": {},
   "outputs": [],
   "source": [
    "#encode\n",
    "X_train = vectorize_sequences(train_data)\n",
    "X_test = vectorize_sequences(test_data)"
   ]
  },
  {
   "cell_type": "code",
   "execution_count": 30,
   "metadata": {},
   "outputs": [],
   "source": [
    "one_hot_train_labels = to_categorical(train_labels)\n",
    "one_hot_test_labels = to_categorical(test_labels)"
   ]
  },
  {
   "cell_type": "code",
   "execution_count": 31,
   "metadata": {},
   "outputs": [
    {
     "data": {
      "text/plain": [
       "(8982, 10000)"
      ]
     },
     "execution_count": 31,
     "metadata": {},
     "output_type": "execute_result"
    }
   ],
   "source": [
    "X_train.shape"
   ]
  },
  {
   "cell_type": "code",
   "execution_count": 32,
   "metadata": {},
   "outputs": [],
   "source": [
    "#define model\n",
    "model = models.Sequential()\n",
    "model.add(layers.Dense(64, activation='relu', input_shape=(10000,)))\n",
    "model.add(layers.Dense(64, activation='relu'))\n",
    "model.add(layers.Dense(46, activation='softmax'))"
   ]
  },
  {
   "cell_type": "code",
   "execution_count": 33,
   "metadata": {},
   "outputs": [],
   "source": [
    "#model compile\n",
    "model.compile(optimizer='rmsprop',\n",
    "             loss='categorical_crossentropy',\n",
    "             metrics=['accuracy'])"
   ]
  },
  {
   "cell_type": "code",
   "execution_count": 39,
   "metadata": {},
   "outputs": [],
   "source": [
    "#make validation_data (size=1000)\n",
    "X_val = X_train[:1000]\n",
    "partial_X_train = X_train[1000:]\n",
    "\n",
    "y_val = one_hot_train_labels[:1000]\n",
    "partial_y_train = one_hot_train_labels[1000:]"
   ]
  },
  {
   "cell_type": "code",
   "execution_count": 44,
   "metadata": {},
   "outputs": [
    {
     "name": "stdout",
     "output_type": "stream",
     "text": [
      "Train on 7982 samples, validate on 1000 samples\n",
      "Epoch 1/8\n",
      "7982/7982 [==============================] - 1s 152us/step - loss: 0.1059 - acc: 0.9577 - val_loss: 1.1081 - val_acc: 0.7980\n",
      "Epoch 2/8\n",
      "7982/7982 [==============================] - 1s 135us/step - loss: 0.1025 - acc: 0.9583 - val_loss: 1.1162 - val_acc: 0.8060\n",
      "Epoch 3/8\n",
      "7982/7982 [==============================] - 1s 155us/step - loss: 0.1033 - acc: 0.9590 - val_loss: 1.0986 - val_acc: 0.7960\n",
      "Epoch 4/8\n",
      "7982/7982 [==============================] - 1s 146us/step - loss: 0.1032 - acc: 0.9579 - val_loss: 1.1225 - val_acc: 0.7990\n",
      "Epoch 5/8\n",
      "7982/7982 [==============================] - 1s 132us/step - loss: 0.0974 - acc: 0.9595 - val_loss: 1.1501 - val_acc: 0.8040\n",
      "Epoch 6/8\n",
      "7982/7982 [==============================] - 1s 135us/step - loss: 0.0991 - acc: 0.9564 - val_loss: 1.2334 - val_acc: 0.7890\n",
      "Epoch 7/8\n",
      "7982/7982 [==============================] - 1s 138us/step - loss: 0.0963 - acc: 0.9577 - val_loss: 1.1813 - val_acc: 0.7960\n",
      "Epoch 8/8\n",
      "7982/7982 [==============================] - 1s 152us/step - loss: 0.0927 - acc: 0.9589 - val_loss: 1.2387 - val_acc: 0.7830\n"
     ]
    }
   ],
   "source": [
    "history = model.fit(partial_X_train,\n",
    "                   partial_y_train,\n",
    "                   epochs=8,\n",
    "                   batch_size=512,\n",
    "                   validation_data=(X_val, y_val))"
   ]
  },
  {
   "cell_type": "code",
   "execution_count": 45,
   "metadata": {},
   "outputs": [
    {
     "data": {
      "image/png": "[encoded data removed]",
      "text/plain": [
       "<Figure size 1080x360 with 2 Axes>"
      ]
     },
     "metadata": {
      "needs_background": "light"
     },
     "output_type": "display_data"
    }
   ],
   "source": [
    "import matplotlib.pyplot as plt\n",
    "\n",
    "history_dict = history.history\n",
    "history_dict.keys()\n",
    "\n",
    "loss_values = history_dict['loss']\n",
    "val_loss_values = history_dict['val_loss']\n",
    "\n",
    "epochs = range(1, len(loss_values) + 1)\n",
    "\n",
    "fig = plt.figure(figsize=(15, 5))\n",
    "\n",
    "fig.add_subplot(1, 2, 1)\n",
    "plt.plot(epochs, loss_values, 'bo', label='Training loss')\n",
    "plt.plot(epochs, val_loss_values, 'b', label='Validation loss')\n",
    "plt.title('Training and Validation loss')\n",
    "plt.xlabel('Epochs')\n",
    "plt.ylabel('Loss')\n",
    "plt.legend()\n",
    "\n",
    "fig.add_subplot(1, 2, 2)\n",
    "acc = history_dict['acc']\n",
    "val_acc = history_dict['val_acc']\n",
    "\n",
    "plt.plot(epochs, acc, 'bo', label='Traning acc')\n",
    "plt.plot(epochs, val_acc, 'b', label='Validation acc')\n",
    "plt.title('Training and Validation acc')\n",
    "plt.xlabel('Epochs')\n",
    "plt.ylabel('acc')\n",
    "plt.legend()\n",
    "plt.show()\n",
    "#過学習を起こしている"
   ]
  },
  {
   "cell_type": "code",
   "execution_count": 47,
   "metadata": {},
   "outputs": [
    {
     "name": "stdout",
     "output_type": "stream",
     "text": [
      "2246/2246 [==============================] - 0s 147us/step\n"
     ]
    },
    {
     "data": {
      "text/plain": [
       "[1.3876266736381306, 0.7635796972926132]"
      ]
     },
     "execution_count": 47,
     "metadata": {},
     "output_type": "execute_result"
    }
   ],
   "source": [
    "results = model.evaluate(X_test, one_hot_test_labels)\n",
    "results"
   ]
  },
  {
   "cell_type": "code",
   "execution_count": 48,
   "metadata": {},
   "outputs": [],
   "source": [
    "predictions = model.predict(X_test)"
   ]
  },
  {
   "cell_type": "code",
   "execution_count": 58,
   "metadata": {},
   "outputs": [
    {
     "name": "stdout",
     "output_type": "stream",
     "text": [
      "(46,)\n",
      "[4.5952923e-08 5.5031400e-08 2.2206151e-10 9.9121606e-01 8.1298621e-03\n",
      " 1.7247481e-11 8.8998080e-12 8.3115583e-07 3.7029924e-05 2.5966264e-07\n",
      " 6.5014603e-08 7.7462455e-06 1.4544635e-06 9.7022124e-09 7.9473130e-09\n",
      " 5.8881000e-10 3.2712323e-06 2.2640306e-08 2.7330904e-07 3.4824228e-05\n",
      " 5.2000082e-04 4.0170846e-05 2.4432522e-08 2.9814875e-09 1.0478935e-08\n",
      " 1.9831918e-09 1.2547235e-13 1.6292153e-08 1.5839539e-06 2.5444684e-09\n",
      " 4.8907496e-06 4.4418823e-11 4.0834075e-07 4.4671097e-10 1.3104436e-07\n",
      " 1.4277156e-08 7.8113601e-07 8.1408347e-10 2.9780393e-08 3.7070021e-11\n",
      " 2.8136039e-08 1.3455700e-09 1.1418506e-09 8.3449553e-11 2.2722111e-12\n",
      " 5.0717121e-12]\n",
      "0.99121606\n",
      "3\n"
     ]
    }
   ],
   "source": [
    "#各エントリーは長さが46のベクトル\n",
    "print(predictions[0].shape)\n",
    "#ベクトルの要素は各クラスの予測された確率\n",
    "print(predictions[0])\n",
    "#0番のエントリーの確率の最大値\n",
    "print(max(predictions[0]))\n",
    "#0番のエントリーの確率の最大値のインデックス\n",
    "print(np.argmax(predictions[0]))"
   ]
  },
  {
   "cell_type": "code",
   "execution_count": null,
   "metadata": {},
   "outputs": [],
   "source": []
  }
 ],
 "metadata": {
  "kernelspec": {
   "display_name": "Python 3",
   "language": "python",
   "name": "python3"
  },
  "language_info": {
   "codemirror_mode": {
    "name": "ipython",
    "version": 3
   },
   "file_extension": ".py",
   "mimetype": "text/x-python",
   "name": "python",
   "nbconvert_exporter": "python",
   "pygments_lexer": "ipython3",
   "version": "3.7.3"
  }
 },
 "nbformat": 4,
 "nbformat_minor": 2
}
