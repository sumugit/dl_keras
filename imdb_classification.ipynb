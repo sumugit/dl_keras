{
 "cells": [
  {
   "cell_type": "code",
   "execution_count": 2,
   "metadata": {},
   "outputs": [
    {
     "name": "stderr",
     "output_type": "stream",
     "text": [
      "C:\\Users\\diddy\\Anaconda3\\lib\\site-packages\\keras\\datasets\\imdb.py:101: VisibleDeprecationWarning: Creating an ndarray from ragged nested sequences (which is a list-or-tuple of lists-or-tuples-or ndarrays with different lengths or shapes) is deprecated. If you meant to do this, you must specify 'dtype=object' when creating the ndarray\n",
      "  x_train, y_train = np.array(xs[:idx]), np.array(labels[:idx])\n",
      "C:\\Users\\diddy\\Anaconda3\\lib\\site-packages\\keras\\datasets\\imdb.py:102: VisibleDeprecationWarning: Creating an ndarray from ragged nested sequences (which is a list-or-tuple of lists-or-tuples-or ndarrays with different lengths or shapes) is deprecated. If you meant to do this, you must specify 'dtype=object' when creating the ndarray\n",
      "  x_test, y_test = np.array(xs[idx:]), np.array(labels[idx:])\n"
     ]
    }
   ],
   "source": [
    "from keras.datasets import imdb\n",
    "import numpy as np\n",
    "\n",
    "# save np.load\n",
    "np_load_old = np.load\n",
    "\n",
    "# modify the default parameters of np.load\n",
    "np.load = lambda *a,**k: np_load_old(*a, allow_pickle=True, **k)\n",
    "\n",
    "# call load_data with allow_pickle implicitly set to true\n",
    "(train_data, train_labels), (test_data, test_labels) = imdb.load_data(num_words=10000)\n",
    "\n",
    "# restore np.load for future normal usage\n",
    "np.load = np_load_old"
   ]
  },
  {
   "cell_type": "code",
   "execution_count": 4,
   "metadata": {},
   "outputs": [
    {
     "data": {
      "text/plain": [
       "9999"
      ]
     },
     "execution_count": 4,
     "metadata": {},
     "output_type": "execute_result"
    }
   ],
   "source": [
    "max([max(sequence) for sequence in train_data])"
   ]
  },
  {
   "cell_type": "code",
   "execution_count": 5,
   "metadata": {},
   "outputs": [],
   "source": [
    "#one-hot-encoding\n",
    "def vectorize_sequences(sequences, dimension=10000):\n",
    "    result = np.zeros((len(sequences), dimension))\n",
    "    for i, sequences in enumerate(sequences):\n",
    "        result[i, sequences] = 1.\n",
    "    return result"
   ]
  },
  {
   "cell_type": "code",
   "execution_count": 6,
   "metadata": {},
   "outputs": [],
   "source": [
    "#encode\n",
    "X_train = vectorize_sequences(train_data)\n",
    "X_test = vectorize_sequences(test_data)"
   ]
  },
  {
   "cell_type": "code",
   "execution_count": 8,
   "metadata": {},
   "outputs": [],
   "source": [
    "#target\n",
    "y_train = np.asarray(train_labels).astype('float32')\n",
    "y_test = np.asarray(test_labels).astype('float32')"
   ]
  },
  {
   "cell_type": "code",
   "execution_count": null,
   "metadata": {},
   "outputs": [],
   "source": [
    "Dense(16, activation='relu')"
   ]
  },
  {
   "cell_type": "code",
   "execution_count": 11,
   "metadata": {},
   "outputs": [
    {
     "name": "stdout",
     "output_type": "stream",
     "text": [
      "WARNING:tensorflow:From C:\\Users\\diddy\\Anaconda3\\lib\\site-packages\\keras\\optimizers.py:790: The name tf.train.Optimizer is deprecated. Please use tf.compat.v1.train.Optimizer instead.\n",
      "\n",
      "WARNING:tensorflow:From C:\\Users\\diddy\\Anaconda3\\lib\\site-packages\\keras\\backend\\tensorflow_backend.py:3376: The name tf.log is deprecated. Please use tf.math.log instead.\n",
      "\n",
      "WARNING:tensorflow:From C:\\Users\\diddy\\Anaconda3\\lib\\site-packages\\tensorflow\\python\\ops\\nn_impl.py:180: add_dispatch_support.<locals>.wrapper (from tensorflow.python.ops.array_ops) is deprecated and will be removed in a future version.\n",
      "Instructions for updating:\n",
      "Use tf.where in 2.0, which has the same broadcast rule as np.where\n"
     ]
    }
   ],
   "source": [
    "from keras import models\n",
    "from keras import layers\n",
    "\n",
    "#define model Sequential\n",
    "model = models.Sequential()\n",
    "model.add(layers.Dense(16, activation='relu', input_shape=(10000,)))\n",
    "model.add(layers.Dense(16, activation='relu'))\n",
    "model.add(layers.Dense(1, activation='sigmoid'))\n",
    "\n",
    "#最適化: rmsprop\n",
    "#損失関数: 交差エントロピー\n",
    "#監視指標: accuracy\n",
    "model.compile(optimizer='rmsprop', loss='binary_crossentropy', metrics=['accuracy'])"
   ]
  },
  {
   "cell_type": "code",
   "execution_count": 12,
   "metadata": {},
   "outputs": [
    {
     "data": {
      "text/plain": [
       "(25000, 10000)"
      ]
     },
     "execution_count": 12,
     "metadata": {},
     "output_type": "execute_result"
    }
   ],
   "source": [
    "X_train.shape"
   ]
  },
  {
   "cell_type": "code",
   "execution_count": 14,
   "metadata": {},
   "outputs": [],
   "source": [
    "#make validation_data (size=10000)\n",
    "X_val = X_train[:10000]\n",
    "partial_X_train = X_train[10000:]\n",
    "\n",
    "y_val = y_train[:10000]\n",
    "partial_y_train = y_train[10000:]"
   ]
  },
  {
   "cell_type": "code",
   "execution_count": 16,
   "metadata": {},
   "outputs": [
    {
     "name": "stdout",
     "output_type": "stream",
     "text": [
      "WARNING:tensorflow:From C:\\Users\\diddy\\Anaconda3\\lib\\site-packages\\keras\\backend\\tensorflow_backend.py:986: The name tf.assign_add is deprecated. Please use tf.compat.v1.assign_add instead.\n",
      "\n",
      "Train on 15000 samples, validate on 10000 samples\n",
      "Epoch 1/20\n",
      "15000/15000 [==============================] - 30s 2ms/step - loss: 0.5413 - acc: 0.7752 - val_loss: 0.4091 - val_acc: 0.8585\n",
      "Epoch 2/20\n",
      "15000/15000 [==============================] - 13s 867us/step - loss: 0.3248 - acc: 0.8950 - val_loss: 0.3288 - val_acc: 0.8722\n",
      "Epoch 3/20\n",
      "15000/15000 [==============================] - 2s 150us/step - loss: 0.2371 - acc: 0.9232 - val_loss: 0.2859 - val_acc: 0.8878\n",
      "Epoch 4/20\n",
      "15000/15000 [==============================] - 2s 151us/step - loss: 0.1860 - acc: 0.9392 - val_loss: 0.2737 - val_acc: 0.8907\n",
      "Epoch 5/20\n",
      "15000/15000 [==============================] - 2s 145us/step - loss: 0.1542 - acc: 0.9504 - val_loss: 0.2987 - val_acc: 0.8816\n",
      "Epoch 6/20\n",
      "15000/15000 [==============================] - 2s 160us/step - loss: 0.1246 - acc: 0.9622 - val_loss: 0.2866 - val_acc: 0.8870\n",
      "Epoch 7/20\n",
      "15000/15000 [==============================] - 2s 144us/step - loss: 0.1093 - acc: 0.9656 - val_loss: 0.3029 - val_acc: 0.8841\n",
      "Epoch 8/20\n",
      "15000/15000 [==============================] - 2s 153us/step - loss: 0.0880 - acc: 0.9745 - val_loss: 0.3196 - val_acc: 0.8816\n",
      "Epoch 9/20\n",
      "15000/15000 [==============================] - 2s 143us/step - loss: 0.0716 - acc: 0.9813 - val_loss: 0.3435 - val_acc: 0.8793\n",
      "Epoch 10/20\n",
      "15000/15000 [==============================] - 2s 152us/step - loss: 0.0615 - acc: 0.9843 - val_loss: 0.3791 - val_acc: 0.8770\n",
      "Epoch 11/20\n",
      "15000/15000 [==============================] - 2s 143us/step - loss: 0.0500 - acc: 0.9884 - val_loss: 0.3956 - val_acc: 0.8740\n",
      "Epoch 12/20\n",
      "15000/15000 [==============================] - 2s 145us/step - loss: 0.0407 - acc: 0.9915 - val_loss: 0.4162 - val_acc: 0.8752\n",
      "Epoch 13/20\n",
      "15000/15000 [==============================] - 2s 150us/step - loss: 0.0345 - acc: 0.9934 - val_loss: 0.4866 - val_acc: 0.8704\n",
      "Epoch 14/20\n",
      "15000/15000 [==============================] - 2s 143us/step - loss: 0.0279 - acc: 0.9941 - val_loss: 0.4753 - val_acc: 0.8699\n",
      "Epoch 15/20\n",
      "15000/15000 [==============================] - 2s 154us/step - loss: 0.0186 - acc: 0.9975 - val_loss: 0.5081 - val_acc: 0.8655\n",
      "Epoch 16/20\n",
      "15000/15000 [==============================] - 2s 147us/step - loss: 0.0177 - acc: 0.9968 - val_loss: 0.5367 - val_acc: 0.8667\n",
      "Epoch 17/20\n",
      "15000/15000 [==============================] - 2s 154us/step - loss: 0.0141 - acc: 0.9981 - val_loss: 0.5700 - val_acc: 0.8680\n",
      "Epoch 18/20\n",
      "15000/15000 [==============================] - 2s 143us/step - loss: 0.0092 - acc: 0.9996 - val_loss: 0.6647 - val_acc: 0.8559\n",
      "Epoch 19/20\n",
      "15000/15000 [==============================] - 2s 164us/step - loss: 0.0098 - acc: 0.9985 - val_loss: 0.6340 - val_acc: 0.8659\n",
      "Epoch 20/20\n",
      "15000/15000 [==============================] - 2s 143us/step - loss: 0.0048 - acc: 0.9997 - val_loss: 0.7164 - val_acc: 0.8624\n"
     ]
    }
   ],
   "source": [
    "#learning\n",
    "history = model.fit(partial_X_train,\n",
    "                   partial_y_train,\n",
    "                   epochs=20,\n",
    "                   batch_size=512,\n",
    "                   validation_data=(X_val, y_val))"
   ]
  },
  {
   "cell_type": "code",
   "execution_count": 17,
   "metadata": {},
   "outputs": [
    {
     "data": {
      "text/plain": [
       "dict_keys(['val_loss', 'val_acc', 'loss', 'acc'])"
      ]
     },
     "execution_count": 17,
     "metadata": {},
     "output_type": "execute_result"
    }
   ],
   "source": [
    "#see History Object's key (学習に関する全てのlogが含まれる(上の学習過程のそれぞれの値))\n",
    "history_dict = history.history\n",
    "history_dict.keys()"
   ]
  },
  {
   "cell_type": "code",
   "execution_count": 19,
   "metadata": {},
   "outputs": [
    {
     "name": "stderr",
     "output_type": "stream",
     "text": [
      "findfont: Font family ['IPAexGothic'] not found. Falling back to DejaVu Sans.\n",
      "findfont: Font family ['IPAexGothic'] not found. Falling back to DejaVu Sans.\n"
     ]
    },
    {
     "data": {
      "image/png": "[encoded data removed]",
      "text/plain": [
       "<Figure size 432x288 with 1 Axes>"
      ]
     },
     "metadata": {
      "needs_background": "light"
     },
     "output_type": "display_data"
    }
   ],
   "source": [
    "import matplotlib.pyplot as plt\n",
    "\n",
    "loss_values = history_dict['loss']\n",
    "val_loss_values = history_dict['val_loss']\n",
    "\n",
    "epochs = range(1, len(loss_values) + 1)\n",
    "\n",
    "plt.plot(epochs, loss_values, 'bo', label='Training loss')\n",
    "plt.plot(epochs, val_loss_values, 'b', label='Validation loss')\n",
    "plt.title('Training and Validation loss')\n",
    "plt.xlabel('Epochs')\n",
    "plt.ylabel('Loss')\n",
    "plt.legend()\n",
    "plt.show()"
   ]
  },
  {
   "cell_type": "code",
   "execution_count": 22,
   "metadata": {},
   "outputs": [
    {
     "data": {
      "image/png": "[encoded data removed]",
      "text/plain": [
       "<Figure size 432x288 with 1 Axes>"
      ]
     },
     "metadata": {
      "needs_background": "light"
     },
     "output_type": "display_data"
    }
   ],
   "source": [
    "#過学習を起こしている\n",
    "\n",
    "acc = history_dict['acc']\n",
    "val_acc = history_dict['val_acc']\n",
    "\n",
    "plt.plot(epochs, acc, 'bo', label='Traning acc')\n",
    "plt.plot(epochs, val_acc, 'b', label='Validation acc')\n",
    "plt.title('Training and Validation acc')\n",
    "plt.xlabel('Epochs')\n",
    "plt.ylabel('acc')\n",
    "plt.legend()\n",
    "plt.show()\n",
    "#過学習を起こしている"
   ]
  },
  {
   "cell_type": "code",
   "execution_count": 23,
   "metadata": {},
   "outputs": [
    {
     "name": "stdout",
     "output_type": "stream",
     "text": [
      "Epoch 1/4\n",
      "25000/25000 [==============================] - 3s 103us/step - loss: 0.2154 - acc: 0.9468\n",
      "Epoch 2/4\n",
      "25000/25000 [==============================] - 2s 92us/step - loss: 0.1337 - acc: 0.9596\n",
      "Epoch 3/4\n",
      "25000/25000 [==============================] - 2s 97us/step - loss: 0.1023 - acc: 0.9690\n",
      "Epoch 4/4\n",
      "25000/25000 [==============================] - 2s 92us/step - loss: 0.0788 - acc: 0.9757\n",
      "25000/25000 [==============================] - 15s 612us/step\n"
     ]
    }
   ],
   "source": [
    "#過学習の結果から, 4エポックで止めてみる\n",
    "model.fit(X_train, y_train, epochs=4, batch_size=512)\n",
    "result = model.evaluate(X_test, y_test)"
   ]
  },
  {
   "cell_type": "code",
   "execution_count": 24,
   "metadata": {},
   "outputs": [
    {
     "data": {
      "text/plain": [
       "[0.521260697748661, 0.85584]"
      ]
     },
     "execution_count": 24,
     "metadata": {},
     "output_type": "execute_result"
    }
   ],
   "source": [
    "#loss, accuracy\n",
    "result"
   ]
  },
  {
   "cell_type": "code",
   "execution_count": 27,
   "metadata": {},
   "outputs": [
    {
     "data": {
      "text/plain": [
       "array([[0.02927214],\n",
       "       [1.        ],\n",
       "       [0.9994662 ],\n",
       "       ...,\n",
       "       [0.16378117],\n",
       "       [0.10052595],\n",
       "       [0.96903086]], dtype=float32)"
      ]
     },
     "execution_count": 27,
     "metadata": {},
     "output_type": "execute_result"
    }
   ],
   "source": [
    "#テストデータで試す(出力はシグモイド関数なので確率)\n",
    "model.predict(X_test)"
   ]
  },
  {
   "cell_type": "code",
   "execution_count": 51,
   "metadata": {},
   "outputs": [],
   "source": [
    "#Hidden Layerを一つ増やしてみる(or 減らしてみる)\n",
    "#unitの数を増やしてみる(or 減らしてみる)\n",
    "#reluからtanhにしてみる\n",
    "#binary_crossentropyからmseにしてみる\n",
    "\n",
    "#define model Sequential\n",
    "model = models.Sequential()\n",
    "model.add(layers.Dense(16, activation='tanh', input_shape=(10000,)))\n",
    "model.add(layers.Dense(16, activation='tanh'))\n",
    "#model.add(layers.Dense(16, activation='relu'))\n",
    "model.add(layers.Dense(1, activation='sigmoid'))\n",
    "\n",
    "#最適化: rmsprop\n",
    "#損失関数: 交差エントロピー\n",
    "#監視指標: accuracy\n",
    "model.compile(optimizer='rmsprop', loss='mse', metrics=['accuracy'])"
   ]
  },
  {
   "cell_type": "code",
   "execution_count": 52,
   "metadata": {},
   "outputs": [
    {
     "name": "stdout",
     "output_type": "stream",
     "text": [
      "Train on 15000 samples, validate on 10000 samples\n",
      "Epoch 1/20\n",
      "15000/15000 [==============================] - 3s 183us/step - loss: 0.1567 - acc: 0.8033 - val_loss: 0.1106 - val_acc: 0.8676\n",
      "Epoch 2/20\n",
      "15000/15000 [==============================] - 2s 166us/step - loss: 0.0795 - acc: 0.9088 - val_loss: 0.0865 - val_acc: 0.8893\n",
      "Epoch 3/20\n",
      "15000/15000 [==============================] - 2s 142us/step - loss: 0.0541 - acc: 0.9382 - val_loss: 0.0827 - val_acc: 0.8892\n",
      "Epoch 4/20\n",
      "15000/15000 [==============================] - 2s 150us/step - loss: 0.0412 - acc: 0.9525 - val_loss: 0.0885 - val_acc: 0.8782\n",
      "Epoch 5/20\n",
      "15000/15000 [==============================] - 2s 140us/step - loss: 0.0303 - acc: 0.9661 - val_loss: 0.0961 - val_acc: 0.8728\n",
      "Epoch 6/20\n",
      "15000/15000 [==============================] - 2s 142us/step - loss: 0.0238 - acc: 0.9735 - val_loss: 0.0948 - val_acc: 0.8765\n",
      "Epoch 7/20\n",
      "15000/15000 [==============================] - 2s 149us/step - loss: 0.0195 - acc: 0.9782 - val_loss: 0.0983 - val_acc: 0.8764\n",
      "Epoch 8/20\n",
      "15000/15000 [==============================] - 2s 141us/step - loss: 0.0154 - acc: 0.9837 - val_loss: 0.1020 - val_acc: 0.8730\n",
      "Epoch 9/20\n",
      "15000/15000 [==============================] - 2s 152us/step - loss: 0.0121 - acc: 0.9874 - val_loss: 0.1075 - val_acc: 0.8680\n",
      "Epoch 10/20\n",
      "15000/15000 [==============================] - 2s 147us/step - loss: 0.0112 - acc: 0.9876 - val_loss: 0.1099 - val_acc: 0.8682\n",
      "Epoch 11/20\n",
      "15000/15000 [==============================] - 3s 178us/step - loss: 0.0106 - acc: 0.9882 - val_loss: 0.1112 - val_acc: 0.8663\n",
      "Epoch 12/20\n",
      "15000/15000 [==============================] - 2s 163us/step - loss: 0.0073 - acc: 0.9923 - val_loss: 0.1155 - val_acc: 0.8681\n",
      "Epoch 13/20\n",
      "15000/15000 [==============================] - 3s 203us/step - loss: 0.0055 - acc: 0.9949 - val_loss: 0.1143 - val_acc: 0.8676\n",
      "Epoch 14/20\n",
      "15000/15000 [==============================] - 3s 177us/step - loss: 0.0100 - acc: 0.9886 - val_loss: 0.1178 - val_acc: 0.8649\n",
      "Epoch 15/20\n",
      "15000/15000 [==============================] - 3s 205us/step - loss: 0.0043 - acc: 0.9959 - val_loss: 0.1177 - val_acc: 0.8656\n",
      "Epoch 16/20\n",
      "15000/15000 [==============================] - 3s 191us/step - loss: 0.0100 - acc: 0.9887 - val_loss: 0.1197 - val_acc: 0.8658\n",
      "Epoch 17/20\n",
      "15000/15000 [==============================] - 3s 173us/step - loss: 0.0039 - acc: 0.9963 - val_loss: 0.1190 - val_acc: 0.8645\n",
      "Epoch 18/20\n",
      "15000/15000 [==============================] - 3s 181us/step - loss: 0.0038 - acc: 0.9963 - val_loss: 0.1195 - val_acc: 0.8643\n",
      "Epoch 19/20\n",
      "15000/15000 [==============================] - 3s 169us/step - loss: 0.0090 - acc: 0.9897 - val_loss: 0.1210 - val_acc: 0.8625\n",
      "Epoch 20/20\n",
      "15000/15000 [==============================] - 3s 188us/step - loss: 0.0037 - acc: 0.9963 - val_loss: 0.1223 - val_acc: 0.8628\n"
     ]
    }
   ],
   "source": [
    "#learning\n",
    "history = model.fit(partial_X_train,\n",
    "                   partial_y_train,\n",
    "                   epochs=20,\n",
    "                   batch_size=512,\n",
    "                   validation_data=(X_val, y_val))"
   ]
  },
  {
   "cell_type": "code",
   "execution_count": 53,
   "metadata": {},
   "outputs": [
    {
     "data": {
      "image/png": "[encoded data removed]",
      "text/plain": [
       "<Figure size 1080x360 with 2 Axes>"
      ]
     },
     "metadata": {
      "needs_background": "light"
     },
     "output_type": "display_data"
    }
   ],
   "source": [
    "import matplotlib.pyplot as plt\n",
    "\n",
    "history_dict = history.history\n",
    "history_dict.keys()\n",
    "\n",
    "loss_values = history_dict['loss']\n",
    "val_loss_values = history_dict['val_loss']\n",
    "\n",
    "epochs = range(1, len(loss_values) + 1)\n",
    "\n",
    "fig = plt.figure(figsize=(15, 5))\n",
    "\n",
    "fig.add_subplot(1, 2, 1)\n",
    "plt.plot(epochs, loss_values, 'bo', label='Training loss')\n",
    "plt.plot(epochs, val_loss_values, 'b', label='Validation loss')\n",
    "plt.title('Training and Validation loss')\n",
    "plt.xlabel('Epochs')\n",
    "plt.ylabel('Loss')\n",
    "plt.legend()\n",
    "\n",
    "fig.add_subplot(1, 2, 2)\n",
    "acc = history_dict['acc']\n",
    "val_acc = history_dict['val_acc']\n",
    "\n",
    "plt.plot(epochs, acc, 'bo', label='Traning acc')\n",
    "plt.plot(epochs, val_acc, 'b', label='Validation acc')\n",
    "plt.title('Training and Validation acc')\n",
    "plt.xlabel('Epochs')\n",
    "plt.ylabel('acc')\n",
    "plt.legend()\n",
    "plt.show()\n",
    "#過学習を起こしている"
   ]
  }
 ],
 "metadata": {
  "kernelspec": {
   "display_name": "Python 3",
   "language": "python",
   "name": "python3"
  },
  "language_info": {
   "codemirror_mode": {
    "name": "ipython",
    "version": 3
   },
   "file_extension": ".py",
   "mimetype": "text/x-python",
   "name": "python",
   "nbconvert_exporter": "python",
   "pygments_lexer": "ipython3",
   "version": "3.7.3"
  }
 },
 "nbformat": 4,
 "nbformat_minor": 2
}
