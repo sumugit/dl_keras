{
 "cells": [
  {
   "cell_type": "markdown",
   "metadata": {},
   "source": [
    "# 映画レビュー分類の過学習を防ぐ"
   ]
  },
  {
   "cell_type": "code",
   "execution_count": 1,
   "metadata": {},
   "outputs": [
    {
     "name": "stderr",
     "output_type": "stream",
     "text": [
      "Using TensorFlow backend.\n"
     ]
    }
   ],
   "source": [
    "from keras.datasets import imdb\n",
    "import numpy as np\n",
    "\n",
    "# save np.load\n",
    "np_load_old = np.load\n",
    "\n",
    "# modify the default parameters of np.load\n",
    "np.load = lambda *a,**k: np_load_old(*a, allow_pickle=True, **k)\n",
    "\n",
    "# call load_data with allow_pickle implicitly set to true\n",
    "(train_data, train_labels), (test_data, test_labels) = imdb.load_data(num_words=10000)\n",
    "\n",
    "# restore np.load for future normal usage\n",
    "np.load = np_load_old"
   ]
  },
  {
   "cell_type": "code",
   "execution_count": 2,
   "metadata": {},
   "outputs": [],
   "source": [
    "#one-hot-encoding\n",
    "def vectorize_sequences(sequences, dimension=10000):\n",
    "    result = np.zeros((len(sequences), dimension))\n",
    "    for i, sequences in enumerate(sequences):\n",
    "        result[i, sequences] = 1.\n",
    "    return result"
   ]
  },
  {
   "cell_type": "code",
   "execution_count": 3,
   "metadata": {},
   "outputs": [],
   "source": [
    "#encode\n",
    "X_train = vectorize_sequences(train_data)\n",
    "X_test = vectorize_sequences(test_data)"
   ]
  },
  {
   "cell_type": "code",
   "execution_count": 4,
   "metadata": {},
   "outputs": [],
   "source": [
    "#target\n",
    "y_train = np.asarray(train_labels).astype('float32')\n",
    "y_test = np.asarray(test_labels).astype('float32')"
   ]
  },
  {
   "cell_type": "markdown",
   "metadata": {},
   "source": [
    "## unit数を減らす"
   ]
  },
  {
   "cell_type": "code",
   "execution_count": 5,
   "metadata": {},
   "outputs": [
    {
     "name": "stdout",
     "output_type": "stream",
     "text": [
      "WARNING:tensorflow:From C:\\Users\\diddy\\Anaconda3\\lib\\site-packages\\keras\\backend\\tensorflow_backend.py:74: The name tf.get_default_graph is deprecated. Please use tf.compat.v1.get_default_graph instead.\n",
      "\n",
      "WARNING:tensorflow:From C:\\Users\\diddy\\Anaconda3\\lib\\site-packages\\keras\\backend\\tensorflow_backend.py:517: The name tf.placeholder is deprecated. Please use tf.compat.v1.placeholder instead.\n",
      "\n",
      "WARNING:tensorflow:From C:\\Users\\diddy\\Anaconda3\\lib\\site-packages\\keras\\backend\\tensorflow_backend.py:4138: The name tf.random_uniform is deprecated. Please use tf.random.uniform instead.\n",
      "\n",
      "WARNING:tensorflow:From C:\\Users\\diddy\\Anaconda3\\lib\\site-packages\\keras\\optimizers.py:790: The name tf.train.Optimizer is deprecated. Please use tf.compat.v1.train.Optimizer instead.\n",
      "\n",
      "WARNING:tensorflow:From C:\\Users\\diddy\\Anaconda3\\lib\\site-packages\\keras\\backend\\tensorflow_backend.py:3376: The name tf.log is deprecated. Please use tf.math.log instead.\n",
      "\n",
      "WARNING:tensorflow:From C:\\Users\\diddy\\Anaconda3\\lib\\site-packages\\tensorflow\\python\\ops\\nn_impl.py:180: add_dispatch_support.<locals>.wrapper (from tensorflow.python.ops.array_ops) is deprecated and will be removed in a future version.\n",
      "Instructions for updating:\n",
      "Use tf.where in 2.0, which has the same broadcast rule as np.where\n"
     ]
    }
   ],
   "source": [
    "from keras import models\n",
    "from keras import layers\n",
    "\n",
    "#define model Sequential\n",
    "model = models.Sequential()\n",
    "model.add(layers.Dense(4, activation='relu', input_shape=(10000,)))\n",
    "model.add(layers.Dense(4, activation='relu'))\n",
    "model.add(layers.Dense(1, activation='sigmoid'))\n",
    "\n",
    "#最適化: rmsprop\n",
    "#損失関数: 交差エントロピー\n",
    "#監視指標: accuracy\n",
    "model.compile(optimizer='rmsprop', loss='binary_crossentropy', metrics=['accuracy'])"
   ]
  },
  {
   "cell_type": "code",
   "execution_count": 6,
   "metadata": {},
   "outputs": [],
   "source": [
    "#make validation_data (size=10000)\n",
    "X_val = X_train[:10000]\n",
    "partial_X_train = X_train[10000:]\n",
    "\n",
    "y_val = y_train[:10000]\n",
    "partial_y_train = y_train[10000:]"
   ]
  },
  {
   "cell_type": "code",
   "execution_count": 7,
   "metadata": {},
   "outputs": [
    {
     "name": "stdout",
     "output_type": "stream",
     "text": [
      "WARNING:tensorflow:From C:\\Users\\diddy\\Anaconda3\\lib\\site-packages\\keras\\backend\\tensorflow_backend.py:986: The name tf.assign_add is deprecated. Please use tf.compat.v1.assign_add instead.\n",
      "\n",
      "Train on 15000 samples, validate on 10000 samples\n",
      "Epoch 1/20\n",
      "15000/15000 [==============================] - 24s 2ms/step - loss: 0.6095 - acc: 0.6725 - val_loss: 0.5561 - val_acc: 0.6862\n",
      "Epoch 2/20\n",
      "15000/15000 [==============================] - 3s 221us/step - loss: 0.5058 - acc: 0.7937 - val_loss: 0.5068 - val_acc: 0.8209\n",
      "Epoch 3/20\n",
      "15000/15000 [==============================] - 2s 149us/step - loss: 0.4573 - acc: 0.8631 - val_loss: 0.4870 - val_acc: 0.8748\n",
      "Epoch 4/20\n",
      "15000/15000 [==============================] - 2s 164us/step - loss: 0.4258 - acc: 0.8974 - val_loss: 0.4744 - val_acc: 0.8538\n",
      "Epoch 5/20\n",
      "15000/15000 [==============================] - 2s 140us/step - loss: 0.4008 - acc: 0.9173 - val_loss: 0.4694 - val_acc: 0.8599\n",
      "Epoch 6/20\n",
      "15000/15000 [==============================] - 3s 170us/step - loss: 0.3799 - acc: 0.9366 - val_loss: 0.4858 - val_acc: 0.8417\n",
      "Epoch 7/20\n",
      "15000/15000 [==============================] - 2s 144us/step - loss: 0.3624 - acc: 0.9473 - val_loss: 0.4664 - val_acc: 0.8668\n",
      "Epoch 8/20\n",
      "15000/15000 [==============================] - 3s 170us/step - loss: 0.3469 - acc: 0.9561 - val_loss: 0.4745 - val_acc: 0.8619\n",
      "Epoch 9/20\n",
      "15000/15000 [==============================] - 2s 148us/step - loss: 0.3337 - acc: 0.9618 - val_loss: 0.4943 - val_acc: 0.8514\n",
      "Epoch 10/20\n",
      "15000/15000 [==============================] - 2s 155us/step - loss: 0.3211 - acc: 0.9693 - val_loss: 0.4893 - val_acc: 0.8572\n",
      "Epoch 11/20\n",
      "15000/15000 [==============================] - 3s 174us/step - loss: 0.3100 - acc: 0.9730 - val_loss: 0.4538 - val_acc: 0.8749\n",
      "Epoch 12/20\n",
      "15000/15000 [==============================] - 3s 176us/step - loss: 0.2997 - acc: 0.9763 - val_loss: 0.5353 - val_acc: 0.8428\n",
      "Epoch 13/20\n",
      "15000/15000 [==============================] - 4s 247us/step - loss: 0.2901 - acc: 0.9783 - val_loss: 0.5014 - val_acc: 0.8614\n",
      "Epoch 14/20\n",
      "15000/15000 [==============================] - 3s 167us/step - loss: 0.2814 - acc: 0.9807 - val_loss: 0.4960 - val_acc: 0.8641\n",
      "Epoch 15/20\n",
      "15000/15000 [==============================] - 3s 206us/step - loss: 0.2726 - acc: 0.9826 - val_loss: 0.5230 - val_acc: 0.8599\n",
      "Epoch 16/20\n",
      "15000/15000 [==============================] - 2s 154us/step - loss: 0.2645 - acc: 0.9843 - val_loss: 0.5362 - val_acc: 0.8577\n",
      "Epoch 17/20\n",
      "15000/15000 [==============================] - 2s 165us/step - loss: 0.2579 - acc: 0.9851 - val_loss: 0.6040 - val_acc: 0.8424\n",
      "Epoch 18/20\n",
      "15000/15000 [==============================] - 2s 148us/step - loss: 0.2509 - acc: 0.9856 - val_loss: 0.5933 - val_acc: 0.8490\n",
      "Epoch 19/20\n",
      "15000/15000 [==============================] - 3s 171us/step - loss: 0.2441 - acc: 0.9865 - val_loss: 0.5969 - val_acc: 0.8508\n",
      "Epoch 20/20\n",
      "15000/15000 [==============================] - 2s 147us/step - loss: 0.2376 - acc: 0.9874 - val_loss: 0.6292 - val_acc: 0.8464\n"
     ]
    }
   ],
   "source": [
    "#learning\n",
    "history = model.fit(partial_X_train,\n",
    "                   partial_y_train,\n",
    "                   epochs=20,\n",
    "                   batch_size=512,\n",
    "                   validation_data=(X_val, y_val))"
   ]
  },
  {
   "cell_type": "code",
   "execution_count": null,
   "metadata": {},
   "outputs": [],
   "source": [
    "#see History Object's key (学習に関する全てのlogが含まれる(上の学習過程のそれぞれの値))\n",
    "history_dict = history.history\n",
    "history_dict.keys()"
   ]
  },
  {
   "cell_type": "code",
   "execution_count": 11,
   "metadata": {},
   "outputs": [
    {
     "data": {
      "image/png": "[encoded data removed]",
      "text/plain": [
       "<Figure size 432x288 with 1 Axes>"
      ]
     },
     "metadata": {
      "needs_background": "light"
     },
     "output_type": "display_data"
    }
   ],
   "source": [
    "import matplotlib.pyplot as plt\n",
    "\n",
    "loss_values = history_dict['loss']\n",
    "val_loss_values = history_dict['val_loss']\n",
    "\n",
    "epochs = range(1, len(loss_values) + 1)\n",
    "\n",
    "plt.plot(epochs, loss_valubes, 'bo', label='Training loss')\n",
    "plt.plot(epochs, val_loss_values, 'b', label='Validation loss')\n",
    "plt.title('Training and Validation loss')\n",
    "plt.xlabel('Epochs')\n",
    "plt.ylabel('Validation loss')\n",
    "plt.legend()\n",
    "plt.show()"
   ]
  },
  {
   "cell_type": "markdown",
   "metadata": {},
   "source": [
    "## L2正則化"
   ]
  },
  {
   "cell_type": "code",
   "execution_count": 18,
   "metadata": {},
   "outputs": [],
   "source": [
    "from keras import models\n",
    "from keras import layers\n",
    "from keras import regularizers\n",
    "\n",
    "#define model Sequential\n",
    "model = models.Sequential()\n",
    "model.add(layers.Dense(16, kernel_regularizer=regularizers.l2(0.001), activation='relu', input_shape=(10000,)))\n",
    "model.add(layers.Dense(16, kernel_regularizer=regularizers.l2(0.001), activation='relu'))\n",
    "model.add(layers.Dense(1, activation='sigmoid'))\n",
    "\n",
    "#最適化: rmsprop\n",
    "#損失関数: 交差エントロピー\n",
    "#監視指標: accuracy\n",
    "model.compile(optimizer='rmsprop', loss='binary_crossentropy', metrics=['accuracy'])"
   ]
  },
  {
   "cell_type": "code",
   "execution_count": 19,
   "metadata": {},
   "outputs": [],
   "source": [
    "#make validation_data (size=10000)\n",
    "X_val = X_train[:10000]\n",
    "partial_X_train = X_train[10000:]\n",
    "\n",
    "y_val = y_train[:10000]\n",
    "partial_y_train = y_train[10000:]"
   ]
  },
  {
   "cell_type": "code",
   "execution_count": 20,
   "metadata": {},
   "outputs": [
    {
     "name": "stdout",
     "output_type": "stream",
     "text": [
      "Train on 15000 samples, validate on 10000 samples\n",
      "Epoch 1/20\n",
      "15000/15000 [==============================] - 3s 203us/step - loss: 0.5616 - acc: 0.7838 - val_loss: 0.4352 - val_acc: 0.8675\n",
      "Epoch 2/20\n",
      "15000/15000 [==============================] - 2s 164us/step - loss: 0.3662 - acc: 0.8935 - val_loss: 0.3664 - val_acc: 0.8792\n",
      "Epoch 3/20\n",
      "15000/15000 [==============================] - 2s 154us/step - loss: 0.2932 - acc: 0.9191 - val_loss: 0.3324 - val_acc: 0.8906\n",
      "Epoch 4/20\n",
      "15000/15000 [==============================] - 2s 157us/step - loss: 0.2558 - acc: 0.9309 - val_loss: 0.3428 - val_acc: 0.8801\n",
      "Epoch 5/20\n",
      "15000/15000 [==============================] - 5s 313us/step - loss: 0.2294 - acc: 0.9406 - val_loss: 0.3285 - val_acc: 0.8856\n",
      "Epoch 6/20\n",
      "15000/15000 [==============================] - 3s 231us/step - loss: 0.2136 - acc: 0.9469 - val_loss: 0.3346 - val_acc: 0.8850\n",
      "Epoch 7/20\n",
      "15000/15000 [==============================] - 3s 231us/step - loss: 0.2072 - acc: 0.9480 - val_loss: 0.3421 - val_acc: 0.8843\n",
      "Epoch 8/20\n",
      "15000/15000 [==============================] - 4s 263us/step - loss: 0.1922 - acc: 0.9567 - val_loss: 0.3533 - val_acc: 0.8824\n",
      "Epoch 9/20\n",
      "15000/15000 [==============================] - 4s 279us/step - loss: 0.1876 - acc: 0.9584 - val_loss: 0.3739 - val_acc: 0.8747\n",
      "Epoch 10/20\n",
      "15000/15000 [==============================] - 4s 273us/step - loss: 0.1736 - acc: 0.9643 - val_loss: 0.3681 - val_acc: 0.8809\n",
      "Epoch 11/20\n",
      "15000/15000 [==============================] - 3s 208us/step - loss: 0.1751 - acc: 0.9609 - val_loss: 0.3975 - val_acc: 0.8748\n",
      "Epoch 12/20\n",
      "15000/15000 [==============================] - 4s 268us/step - loss: 0.1674 - acc: 0.9657 - val_loss: 0.3847 - val_acc: 0.8794\n",
      "Epoch 13/20\n",
      "15000/15000 [==============================] - 3s 217us/step - loss: 0.1648 - acc: 0.9661 - val_loss: 0.4178 - val_acc: 0.8724\n",
      "Epoch 14/20\n",
      "15000/15000 [==============================] - 5s 317us/step - loss: 0.1622 - acc: 0.9663 - val_loss: 0.3978 - val_acc: 0.8787\n",
      "Epoch 15/20\n",
      "15000/15000 [==============================] - 4s 271us/step - loss: 0.1550 - acc: 0.9711 - val_loss: 0.4872 - val_acc: 0.8583\n",
      "Epoch 16/20\n",
      "15000/15000 [==============================] - 3s 186us/step - loss: 0.1515 - acc: 0.9721 - val_loss: 0.4204 - val_acc: 0.8698\n",
      "Epoch 17/20\n",
      "15000/15000 [==============================] - 4s 262us/step - loss: 0.1504 - acc: 0.9721 - val_loss: 0.4477 - val_acc: 0.8624\n",
      "Epoch 18/20\n",
      "15000/15000 [==============================] - 4s 289us/step - loss: 0.1490 - acc: 0.9723 - val_loss: 0.4456 - val_acc: 0.8650\n",
      "Epoch 19/20\n",
      "15000/15000 [==============================] - 3s 221us/step - loss: 0.1480 - acc: 0.9714 - val_loss: 0.4342 - val_acc: 0.8721\n",
      "Epoch 20/20\n",
      "15000/15000 [==============================] - 4s 254us/step - loss: 0.1392 - acc: 0.9765 - val_loss: 0.4412 - val_acc: 0.8713\n"
     ]
    }
   ],
   "source": [
    "#learning\n",
    "history = model.fit(partial_X_train,\n",
    "                   partial_y_train,\n",
    "                   epochs=20,\n",
    "                   batch_size=512,\n",
    "                   validation_data=(X_val, y_val))"
   ]
  },
  {
   "cell_type": "code",
   "execution_count": 21,
   "metadata": {},
   "outputs": [
    {
     "data": {
      "text/plain": [
       "dict_keys(['val_loss', 'val_acc', 'loss', 'acc'])"
      ]
     },
     "execution_count": 21,
     "metadata": {},
     "output_type": "execute_result"
    }
   ],
   "source": [
    "#see History Object's key (学習に関する全てのlogが含まれる(上の学習過程のそれぞれの値))\n",
    "history_dict = history.history\n",
    "history_dict.keys()"
   ]
  },
  {
   "cell_type": "code",
   "execution_count": 22,
   "metadata": {},
   "outputs": [
    {
     "data": {
      "image/png": "[encoded data removed]",
      "text/plain": [
       "<Figure size 432x288 with 1 Axes>"
      ]
     },
     "metadata": {
      "needs_background": "light"
     },
     "output_type": "display_data"
    }
   ],
   "source": [
    "import matplotlib.pyplot as plt\n",
    "\n",
    "loss_values = history_dict['loss']\n",
    "val_loss_values = history_dict['val_loss']\n",
    "\n",
    "epochs = range(1, len(loss_values) + 1)\n",
    "\n",
    "plt.plot(epochs, loss_values, 'bo', label='Training loss')\n",
    "plt.plot(epochs, val_loss_values, 'b', label='Validation loss')\n",
    "plt.title('Training and Validation loss')\n",
    "plt.xlabel('Epochs')\n",
    "plt.ylabel('Validation loss')\n",
    "plt.legend()\n",
    "plt.show()"
   ]
  },
  {
   "cell_type": "markdown",
   "metadata": {},
   "source": [
    "## ドロップアウト"
   ]
  },
  {
   "cell_type": "code",
   "execution_count": 23,
   "metadata": {},
   "outputs": [
    {
     "name": "stdout",
     "output_type": "stream",
     "text": [
      "WARNING:tensorflow:From C:\\Users\\diddy\\Anaconda3\\lib\\site-packages\\keras\\backend\\tensorflow_backend.py:3445: calling dropout (from tensorflow.python.ops.nn_ops) with keep_prob is deprecated and will be removed in a future version.\n",
      "Instructions for updating:\n",
      "Please use `rate` instead of `keep_prob`. Rate should be set to `rate = 1 - keep_prob`.\n"
     ]
    }
   ],
   "source": [
    "from keras import models\n",
    "from keras import layers\n",
    "\n",
    "#define model Sequential\n",
    "model = models.Sequential()\n",
    "model.add(layers.Dense(16, activation='relu', input_shape=(10000,)))\n",
    "model.add(layers.Dropout(0.5))\n",
    "model.add(layers.Dense(16, activation='relu'))\n",
    "model.add(layers.Dropout(0.5))\n",
    "model.add(layers.Dense(1, activation='sigmoid'))\n",
    "\n",
    "#最適化: rmsprop\n",
    "#損失関数: 交差エントロピー\n",
    "#監視指標: accuracy\n",
    "model.compile(optimizer='rmsprop', loss='binary_crossentropy', metrics=['accuracy'])"
   ]
  },
  {
   "cell_type": "code",
   "execution_count": 24,
   "metadata": {},
   "outputs": [],
   "source": [
    "#make validation_data (size=10000)\n",
    "X_val = X_train[:10000]\n",
    "partial_X_train = X_train[10000:]\n",
    "\n",
    "y_val = y_train[:10000]\n",
    "partial_y_train = y_train[10000:]"
   ]
  },
  {
   "cell_type": "code",
   "execution_count": 25,
   "metadata": {},
   "outputs": [
    {
     "name": "stdout",
     "output_type": "stream",
     "text": [
      "Train on 15000 samples, validate on 10000 samples\n",
      "Epoch 1/20\n",
      "15000/15000 [==============================] - 5s 361us/step - loss: 0.6448 - acc: 0.6276 - val_loss: 0.5690 - val_acc: 0.7962\n",
      "Epoch 2/20\n",
      "15000/15000 [==============================] - 5s 315us/step - loss: 0.5267 - acc: 0.7541 - val_loss: 0.4459 - val_acc: 0.8660\n",
      "Epoch 3/20\n",
      "15000/15000 [==============================] - 5s 341us/step - loss: 0.4433 - acc: 0.8167 - val_loss: 0.3615 - val_acc: 0.8779\n",
      "Epoch 4/20\n",
      "15000/15000 [==============================] - 5s 302us/step - loss: 0.3830 - acc: 0.8551 - val_loss: 0.3218 - val_acc: 0.8838\n",
      "Epoch 5/20\n",
      "15000/15000 [==============================] - 5s 324us/step - loss: 0.3362 - acc: 0.8802 - val_loss: 0.2994 - val_acc: 0.8873\n",
      "Epoch 6/20\n",
      "15000/15000 [==============================] - 4s 282us/step - loss: 0.3011 - acc: 0.8955 - val_loss: 0.3017 - val_acc: 0.8862\n",
      "Epoch 7/20\n",
      "15000/15000 [==============================] - 4s 266us/step - loss: 0.2688 - acc: 0.9099 - val_loss: 0.2824 - val_acc: 0.8855\n",
      "Epoch 8/20\n",
      "15000/15000 [==============================] - 4s 255us/step - loss: 0.2386 - acc: 0.9222 - val_loss: 0.2854 - val_acc: 0.8889\n",
      "Epoch 9/20\n",
      "15000/15000 [==============================] - 4s 287us/step - loss: 0.2144 - acc: 0.9311 - val_loss: 0.2907 - val_acc: 0.8840\n",
      "Epoch 10/20\n",
      "15000/15000 [==============================] - 4s 273us/step - loss: 0.1962 - acc: 0.9361 - val_loss: 0.3059 - val_acc: 0.8886\n",
      "Epoch 11/20\n",
      "15000/15000 [==============================] - 4s 264us/step - loss: 0.1760 - acc: 0.9423 - val_loss: 0.3163 - val_acc: 0.8854\n",
      "Epoch 12/20\n",
      "15000/15000 [==============================] - 4s 273us/step - loss: 0.1596 - acc: 0.9498 - val_loss: 0.3429 - val_acc: 0.8869\n",
      "Epoch 13/20\n",
      "15000/15000 [==============================] - 4s 264us/step - loss: 0.1529 - acc: 0.9514 - val_loss: 0.3574 - val_acc: 0.8847\n",
      "Epoch 14/20\n",
      "15000/15000 [==============================] - 4s 267us/step - loss: 0.1401 - acc: 0.9580 - val_loss: 0.4121 - val_acc: 0.8851\n",
      "Epoch 15/20\n",
      "15000/15000 [==============================] - 4s 260us/step - loss: 0.1310 - acc: 0.9579 - val_loss: 0.3986 - val_acc: 0.8836\n",
      "Epoch 16/20\n",
      "15000/15000 [==============================] - 4s 284us/step - loss: 0.1170 - acc: 0.9631 - val_loss: 0.4331 - val_acc: 0.8835\n",
      "Epoch 17/20\n",
      "15000/15000 [==============================] - 4s 273us/step - loss: 0.1174 - acc: 0.9627 - val_loss: 0.4451 - val_acc: 0.8818\n",
      "Epoch 18/20\n",
      "15000/15000 [==============================] - 4s 238us/step - loss: 0.1090 - acc: 0.9673 - val_loss: 0.4832 - val_acc: 0.8848\n",
      "Epoch 19/20\n",
      "15000/15000 [==============================] - 4s 293us/step - loss: 0.1044 - acc: 0.9688 - val_loss: 0.5262 - val_acc: 0.8825\n",
      "Epoch 20/20\n",
      "15000/15000 [==============================] - 5s 312us/step - loss: 0.0967 - acc: 0.9695 - val_loss: 0.5279 - val_acc: 0.8831\n"
     ]
    }
   ],
   "source": [
    "#learning\n",
    "history = model.fit(partial_X_train,\n",
    "                   partial_y_train,\n",
    "                   epochs=20,\n",
    "                   batch_size=512,\n",
    "                   validation_data=(X_val, y_val))"
   ]
  },
  {
   "cell_type": "code",
   "execution_count": 26,
   "metadata": {},
   "outputs": [
    {
     "data": {
      "text/plain": [
       "dict_keys(['val_loss', 'val_acc', 'loss', 'acc'])"
      ]
     },
     "execution_count": 26,
     "metadata": {},
     "output_type": "execute_result"
    }
   ],
   "source": [
    "#see History Object's key (学習に関する全てのlogが含まれる(上の学習過程のそれぞれの値))\n",
    "history_dict = history.history\n",
    "history_dict.keys()"
   ]
  },
  {
   "cell_type": "code",
   "execution_count": 27,
   "metadata": {},
   "outputs": [
    {
     "data": {
      "image/png": "[encoded data removed]",
      "text/plain": [
       "<Figure size 432x288 with 1 Axes>"
      ]
     },
     "metadata": {
      "needs_background": "light"
     },
     "output_type": "display_data"
    }
   ],
   "source": [
    "import matplotlib.pyplot as plt\n",
    "\n",
    "loss_values = history_dict['loss']\n",
    "val_loss_values = history_dict['val_loss']\n",
    "\n",
    "epochs = range(1, len(loss_values) + 1)\n",
    "\n",
    "plt.plot(epochs, loss_values, 'bo', label='Training loss')\n",
    "plt.plot(epochs, val_loss_values, 'b', label='Validation loss')\n",
    "plt.title('Training and Validation loss')\n",
    "plt.xlabel('Epochs')\n",
    "plt.ylabel('Validation loss')\n",
    "plt.legend()\n",
    "plt.show()"
   ]
  }
 ],
 "metadata": {
  "kernelspec": {
   "display_name": "Python 3",
   "language": "python",
   "name": "python3"
  },
  "language_info": {
   "codemirror_mode": {
    "name": "ipython",
    "version": 3
   },
   "file_extension": ".py",
   "mimetype": "text/x-python",
   "name": "python",
   "nbconvert_exporter": "python",
   "pygments_lexer": "ipython3",
   "version": "3.7.3"
  }
 },
 "nbformat": 4,
 "nbformat_minor": 2
}
